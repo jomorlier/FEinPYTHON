{
  "nbformat": 4,
  "nbformat_minor": 0,
  "metadata": {
    "colab": {
      "provenance": []
    },
    "kernelspec": {
      "name": "python3",
      "display_name": "Python 3"
    },
    "language_info": {
      "name": "python"
    }
  },
  "cells": [
    {
      "cell_type": "code",
      "execution_count": 1,
      "metadata": {
        "id": "W_j5tzfm4A-R"
      },
      "outputs": [],
      "source": [
        "#!/usr/bin/env python\n",
        "# This program is free software; you can redistribute it and/or modify\n",
        "# it under the terms of the GNU General Public License as published by\n",
        "# the Free Software Foundation; either version 2 of the License, or\n",
        "# (at your option) any later version.\n",
        "#\n",
        "# This program is distributed in the hope that it will be useful,\n",
        "# but WITHOUT ANY WARRANTY; without even the implied warranty of\n",
        "# MERCHANTABILITY or FITNESS FOR A PARTICULAR PURPOSE.  See the\n",
        "# GNU General Public License for more details.\n",
        "#\n",
        "# Copyright 2022 Jorgen Bergstrom\n",
        "# See also code from http://compmech.lab.asu.edu/codes.php\n",
        "import numpy as np\n",
        "import math\n",
        "from matplotlib import pyplot as plt\n"
      ]
    },
    {
      "cell_type": "code",
      "source": [
        "def shape(xi):\n",
        "\tx,y = tuple(xi)\n",
        "\tN = [(1.0-x)*(1.0-y), (1.0+x)*(1.0-y), (1.0+x)*(1.0+y), (1.0-x)*(1.0+y)]\n",
        "\treturn 0.25*np.array(N)\n",
        "def gradshape(xi):\n",
        "\tx,y = tuple(xi)\n",
        "\tdN = [[-(1.0-y),  (1.0-y), (1.0+y), -(1.0+y)],\n",
        "\t\t  [-(1.0-x), -(1.0+x), (1.0+x),  (1.0-x)]]\n",
        "\treturn 0.25*np.array(dN)\n",
        "###############################\n",
        "print('create mesh')\n",
        "# input\n",
        "mesh_ex = 9\n",
        "mesh_ey = 49\n",
        "mesh_lx = 10.0\n",
        "mesh_ly = 50.0\n",
        "# derived\n",
        "mesh_nx      = mesh_ex + 1\n",
        "mesh_ny      = mesh_ey + 1\n",
        "num_nodes    = mesh_nx * mesh_ny\n",
        "num_elements = mesh_ex * mesh_ey\n",
        "mesh_hx      = mesh_lx / mesh_ex\n",
        "mesh_hy      = mesh_ly / mesh_ey\n",
        "nodes = []\n",
        "for y in np.linspace(0.0, mesh_ly, mesh_ny):\n",
        "\tfor x in np.linspace(0.0, mesh_lx, mesh_nx):\n",
        "\t\tnodes.append([x,y])\n",
        "nodes = np.array(nodes)\n",
        "conn = []\n",
        "for j in range(mesh_ey):\n",
        "\tfor i in range(mesh_ex):\n",
        "\t\tn0 = i + j*mesh_nx\n",
        "\t\tconn.append([n0, n0 + 1, n0 + 1 + mesh_nx, n0 + mesh_nx])\n"
      ],
      "metadata": {
        "colab": {
          "base_uri": "https://localhost:8080/"
        },
        "id": "6uC4SjXA4WPV",
        "outputId": "9d88c4d1-2da9-48f7-d86b-e75ea5537265"
      },
      "execution_count": 2,
      "outputs": [
        {
          "output_type": "stream",
          "name": "stdout",
          "text": [
            "create mesh\n"
          ]
        }
      ]
    },
    {
      "cell_type": "code",
      "source": [
        "###############################\n",
        "print ('material model - plane strain')\n",
        "E = 100.0\n",
        "v = 0.48\n",
        "C = E/(1.0+v)/(1.0-2.0*v) * np.array([[1.0-v,     v,     0.0],\n",
        "\t\t\t\t\t\t\t\t      [    v, 1.0-v,     0.0],\n",
        "\t\t\t\t\t\t\t\t      [  0.0,   0.0,   0.5-v]])\n",
        "###############################\n",
        "print('create global stiffness matrix')\n",
        "K = np.zeros((2*num_nodes, 2*num_nodes))\n",
        "q4 = [[x/math.sqrt(3.0),y/math.sqrt(3.0)] for y in [-1.0,1.0] for x in [-1.0,1.0]]\n",
        "B = np.zeros((3,8))\n",
        "for c in conn:\n",
        "\txIe = nodes[c,:]\n",
        "\tKe = np.zeros((8,8))\n",
        "\tfor q in q4:\n",
        "\t\tdN = gradshape(q)\n",
        "\t\tJ  = np.dot(dN, xIe).T\n",
        "\t\tdN = np.dot(np.linalg.inv(J), dN)\n",
        "\t\tB[0,0::2] = dN[0,:]\n",
        "\t\tB[1,1::2] = dN[1,:]\n",
        "\t\tB[2,0::2] = dN[1,:]\n",
        "\t\tB[2,1::2] = dN[0,:]\n",
        "\t\tKe += np.dot(np.dot(B.T,C),B) * np.linalg.det(J)\n",
        "\tfor i,I in enumerate(c):\n",
        "\t\tfor j,J in enumerate(c):\n",
        "\t\t\tK[2*I,2*J]     += Ke[2*i,2*j]\n",
        "\t\t\tK[2*I+1,2*J]   += Ke[2*i+1,2*j]\n",
        "\t\t\tK[2*I+1,2*J+1] += Ke[2*i+1,2*j+1]\n",
        "\t\t\tK[2*I,2*J+1]   += Ke[2*i,2*j+1]\n"
      ],
      "metadata": {
        "colab": {
          "base_uri": "https://localhost:8080/"
        },
        "id": "O9RSgIBz5C--",
        "outputId": "5611befd-c11d-4f78-9bc1-9d3d8599e678"
      },
      "execution_count": 3,
      "outputs": [
        {
          "output_type": "stream",
          "name": "stdout",
          "text": [
            "material model - plane strain\n",
            "create global stiffness matrix\n"
          ]
        }
      ]
    },
    {
      "cell_type": "code",
      "source": [
        "###############################\n",
        "print('assign nodal forces and boundary conditions')\n",
        "f = np.zeros((2*num_nodes))\n",
        "for i in range(num_nodes):\n",
        "\tif nodes[i,1] == 0.0:\n",
        "\t\tK[2*i,:]     = 0.0\n",
        "\t\tK[2*i+1,:]   = 0.0\n",
        "\t\tK[2*i,2*i]   = 1.0\n",
        "\t\tK[2*i+1,2*i+1] = 1.0\n",
        "\tif nodes[i,1] == mesh_ly:\n",
        "\t\tx = nodes[i,0]\n",
        "\t\tf[2*i+1] = 20.0\n",
        "\t\tif x == 0.0 or x == mesh_lx:\n",
        "\t\t\tf[2*i+1] *= 0.5\n"
      ],
      "metadata": {
        "colab": {
          "base_uri": "https://localhost:8080/"
        },
        "id": "zO5wMUja5HUQ",
        "outputId": "47915a56-14f9-4f42-95d1-a079b17d046b"
      },
      "execution_count": 4,
      "outputs": [
        {
          "output_type": "stream",
          "name": "stdout",
          "text": [
            "assign nodal forces and boundary conditions\n"
          ]
        }
      ]
    },
    {
      "cell_type": "code",
      "source": [
        "###############################\n",
        "print('solving linear system')\n",
        "u = np.linalg.solve(K, f)\n",
        "print('max u=', max(u))\n"
      ],
      "metadata": {
        "colab": {
          "base_uri": "https://localhost:8080/"
        },
        "id": "GYGgwczS5LPz",
        "outputId": "9c5fb001-1df9-4c74-809a-eac289f1cd6d"
      },
      "execution_count": 5,
      "outputs": [
        {
          "output_type": "stream",
          "name": "stdout",
          "text": [
            "solving linear system\n",
            "max u= 6.745400245723836\n"
          ]
        }
      ]
    },
    {
      "cell_type": "code",
      "source": [
        "###############################\n",
        "print('plotting displacement')\n",
        "ux = np.reshape(u[0::2], (mesh_ny,mesh_nx))\n",
        "uy = np.reshape(u[1::2], (mesh_ny,mesh_nx))\n",
        "xvec = []\n",
        "yvec = []\n",
        "res  = []\n",
        "for i in range(mesh_nx):\n",
        "    for j in range(mesh_ny):\n",
        "        xvec.append(i*mesh_hx + ux[j,i])\n",
        "        yvec.append(j*mesh_hy + uy[j,i])\n",
        "        res.append(uy[j,i])\n",
        "t = plt.tricontourf(xvec, yvec, res, levels=14, cmap=plt.cm.jet)\n",
        "plt.scatter(xvec, yvec, marker='o', c='b', s=2)\n",
        "plt.grid()\n",
        "plt.colorbar(t)\n",
        "plt.axis('equal')\n",
        "plt.show()"
      ],
      "metadata": {
        "colab": {
          "base_uri": "https://localhost:8080/",
          "height": 452
        },
        "id": "5yK8upqI5NSO",
        "outputId": "36b7b7c3-b662-4bf2-b8c7-ed6d1cc75d5e"
      },
      "execution_count": 6,
      "outputs": [
        {
          "output_type": "stream",
          "name": "stdout",
          "text": [
            "plotting displacement\n"
          ]
        },
        {
          "output_type": "display_data",
          "data": {
            "text/plain": [
              "<Figure size 640x480 with 2 Axes>"
            ],
            "image/png": "[encoded data removed]"
          },
          "metadata": {}
        }
      ]
    }
  ]
}